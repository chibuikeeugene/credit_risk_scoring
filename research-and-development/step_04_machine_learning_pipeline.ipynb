{
 "cells": [
  {
   "cell_type": "code",
   "execution_count": 1,
   "metadata": {},
   "outputs": [],
   "source": [
    "# Data manipulation\n",
    "import pandas as pd \n",
    "\n",
    "# numerical manipulation\n",
    "import numpy as np\n",
    "\n",
    "# library for converting our features into a vector\n",
    "from sklearn.feature_extraction import DictVectorizer\n",
    "\n",
    "from sklearn.preprocessing import StandardScaler\n",
    "\n",
    "# to split our dataset into train and test\n",
    "from sklearn.model_selection import train_test_split\n",
    "from sklearn.pipeline import Pipeline\n",
    "#Using our final estimator to build our model\n",
    "from sklearn.ensemble import RandomForestClassifier as RFC\n",
    "\n",
    "# to evaluate model performance\n",
    "from sklearn.metrics import accuracy_score, roc_auc_score, classification_report\n",
    "\n",
    "#from feature engine\n",
    "from feature_engine.imputation import (\n",
    "    AddMissingIndicator,\n",
    "    MeanMedianImputer,\n",
    ")\n",
    "\n",
    "from feature_engine.transformation import (\n",
    "    YeoJohnsonTransformer,\n",
    "    LogCpTransformer\n",
    ")\n",
    "\n",
    "from feature_engine.selection import DropFeatures\n",
    "from feature_engine.encoding import OrdinalEncoder"
   ]
  },
  {
   "cell_type": "code",
   "execution_count": 15,
   "metadata": {},
   "outputs": [
    {
     "data": {
      "text/html": [
       "<div>\n",
       "<style scoped>\n",
       "    .dataframe tbody tr th:only-of-type {\n",
       "        vertical-align: middle;\n",
       "    }\n",
       "\n",
       "    .dataframe tbody tr th {\n",
       "        vertical-align: top;\n",
       "    }\n",
       "\n",
       "    .dataframe thead th {\n",
       "        text-align: right;\n",
       "    }\n",
       "</style>\n",
       "<table border=\"1\" class=\"dataframe\">\n",
       "  <thead>\n",
       "    <tr style=\"text-align: right;\">\n",
       "      <th></th>\n",
       "      <th>Status</th>\n",
       "      <th>Seniority</th>\n",
       "      <th>Home</th>\n",
       "      <th>Time</th>\n",
       "      <th>Age</th>\n",
       "      <th>Marital</th>\n",
       "      <th>Records</th>\n",
       "      <th>Job</th>\n",
       "      <th>Expenses</th>\n",
       "      <th>Income</th>\n",
       "      <th>Assets</th>\n",
       "      <th>Debt</th>\n",
       "      <th>Amount</th>\n",
       "      <th>Price</th>\n",
       "    </tr>\n",
       "  </thead>\n",
       "  <tbody>\n",
       "    <tr>\n",
       "      <th>0</th>\n",
       "      <td>1</td>\n",
       "      <td>9</td>\n",
       "      <td>1</td>\n",
       "      <td>60</td>\n",
       "      <td>30</td>\n",
       "      <td>2</td>\n",
       "      <td>1</td>\n",
       "      <td>3</td>\n",
       "      <td>73</td>\n",
       "      <td>129</td>\n",
       "      <td>0</td>\n",
       "      <td>0</td>\n",
       "      <td>800</td>\n",
       "      <td>846</td>\n",
       "    </tr>\n",
       "    <tr>\n",
       "      <th>1</th>\n",
       "      <td>1</td>\n",
       "      <td>17</td>\n",
       "      <td>1</td>\n",
       "      <td>60</td>\n",
       "      <td>58</td>\n",
       "      <td>3</td>\n",
       "      <td>1</td>\n",
       "      <td>1</td>\n",
       "      <td>48</td>\n",
       "      <td>131</td>\n",
       "      <td>0</td>\n",
       "      <td>0</td>\n",
       "      <td>1000</td>\n",
       "      <td>1658</td>\n",
       "    </tr>\n",
       "    <tr>\n",
       "      <th>2</th>\n",
       "      <td>2</td>\n",
       "      <td>10</td>\n",
       "      <td>2</td>\n",
       "      <td>36</td>\n",
       "      <td>46</td>\n",
       "      <td>2</td>\n",
       "      <td>2</td>\n",
       "      <td>3</td>\n",
       "      <td>90</td>\n",
       "      <td>200</td>\n",
       "      <td>3000</td>\n",
       "      <td>0</td>\n",
       "      <td>2000</td>\n",
       "      <td>2985</td>\n",
       "    </tr>\n",
       "    <tr>\n",
       "      <th>3</th>\n",
       "      <td>1</td>\n",
       "      <td>0</td>\n",
       "      <td>1</td>\n",
       "      <td>60</td>\n",
       "      <td>24</td>\n",
       "      <td>1</td>\n",
       "      <td>1</td>\n",
       "      <td>1</td>\n",
       "      <td>63</td>\n",
       "      <td>182</td>\n",
       "      <td>2500</td>\n",
       "      <td>0</td>\n",
       "      <td>900</td>\n",
       "      <td>1325</td>\n",
       "    </tr>\n",
       "    <tr>\n",
       "      <th>4</th>\n",
       "      <td>1</td>\n",
       "      <td>0</td>\n",
       "      <td>1</td>\n",
       "      <td>36</td>\n",
       "      <td>26</td>\n",
       "      <td>1</td>\n",
       "      <td>1</td>\n",
       "      <td>1</td>\n",
       "      <td>46</td>\n",
       "      <td>107</td>\n",
       "      <td>0</td>\n",
       "      <td>0</td>\n",
       "      <td>310</td>\n",
       "      <td>910</td>\n",
       "    </tr>\n",
       "  </tbody>\n",
       "</table>\n",
       "</div>"
      ],
      "text/plain": [
       "   Status  Seniority  Home  Time  Age  Marital  Records  Job  Expenses  \\\n",
       "0       1          9     1    60   30        2        1    3        73   \n",
       "1       1         17     1    60   58        3        1    1        48   \n",
       "2       2         10     2    36   46        2        2    3        90   \n",
       "3       1          0     1    60   24        1        1    1        63   \n",
       "4       1          0     1    36   26        1        1    1        46   \n",
       "\n",
       "   Income  Assets  Debt  Amount  Price  \n",
       "0     129       0     0     800    846  \n",
       "1     131       0     0    1000   1658  \n",
       "2     200    3000     0    2000   2985  \n",
       "3     182    2500     0     900   1325  \n",
       "4     107       0     0     310    910  "
      ]
     },
     "execution_count": 15,
     "metadata": {},
     "output_type": "execute_result"
    }
   ],
   "source": [
    "\n",
    "# load the dataset\n",
    "data = pd.read_csv('CreditScoring.csv')\n",
    "\n",
    "# read snapshot of the dataset\n",
    "data.head()"
   ]
  },
  {
   "cell_type": "code",
   "execution_count": 16,
   "metadata": {},
   "outputs": [
    {
     "data": {
      "text/plain": [
       "(4455, 14)"
      ]
     },
     "execution_count": 16,
     "metadata": {},
     "output_type": "execute_result"
    }
   ],
   "source": [
    "# format the feature column names\n",
    "data.columns = data.columns.str.lower()\n",
    "\n",
    "data.shape"
   ]
  },
  {
   "cell_type": "code",
   "execution_count": 4,
   "metadata": {},
   "outputs": [],
   "source": [
    "# update the categorical var its string values so we can know what each number represent\n",
    "status_values = {1: \"good\", 2: \"bad\", 0: \"unknown\"}\n",
    "data.status = data.status.map(status_values)\n",
    "\n",
    "home_values = {1: \"rent\", 2: \"owner\", 3: \"priv\", 4: \"ignore\", 5: \"parents\",6: \"other\", 0: \"unknown\"}\n",
    "data.home = data.home.map(home_values)\n",
    "\n",
    "marital_values = {1:\"single\", 2:\"married\", 3:\"widow\", 4:\"separated\", 5:\"divorced\", 0:\"unknown\"}\n",
    "data.marital = data.marital.map(marital_values)\n",
    "\n",
    "records_values = {1:\"no_rec\", 2:\"yes_rec\"}\n",
    "data.records = data.records.map(records_values)\n",
    "\n",
    "job_values = {1:\"fixed\", 2:\"partime\", 3:\"freelance\", 4:\"others\", 0: 'unknown\"'}\n",
    "data.job = data.job.map(job_values)"
   ]
  },
  {
   "cell_type": "code",
   "execution_count": 5,
   "metadata": {},
   "outputs": [],
   "source": [
    "# 99999999 represents data not available for a particular user. Hence, let's\n",
    "#replace them with the usual NaN in numpy\n",
    "\n",
    "num_List = ['income', 'assets', 'debt']\n",
    "for var in num_List:\n",
    "    data[var].replace(to_replace=99999999, value=np.nan, inplace=True)"
   ]
  },
  {
   "cell_type": "code",
   "execution_count": 6,
   "metadata": {},
   "outputs": [],
   "source": [
    "# let's exclude the unknown value in status since their present is small\n",
    "data  = data[data.status != 'unknown']"
   ]
  },
  {
   "cell_type": "code",
   "execution_count": 7,
   "metadata": {},
   "outputs": [
    {
     "data": {
      "text/plain": [
       "array([1, 0])"
      ]
     },
     "execution_count": 7,
     "metadata": {},
     "output_type": "execute_result"
    }
   ],
   "source": [
    "# let's change the status value from string data type to int.\n",
    "data.status = (data.status == 'good').astype(int)\n",
    "data.status.unique()"
   ]
  },
  {
   "cell_type": "markdown",
   "metadata": {},
   "source": [
    "# Splitting the data into train and test"
   ]
  },
  {
   "cell_type": "code",
   "execution_count": 8,
   "metadata": {},
   "outputs": [
    {
     "data": {
      "text/plain": [
       "((3117, 13), (1337, 13))"
      ]
     },
     "execution_count": 8,
     "metadata": {},
     "output_type": "execute_result"
    }
   ],
   "source": [
    "x_train, x_test, y_train, y_test = train_test_split(\n",
    "    data.drop('status', axis=1), # predicting features\n",
    "    data['status'], # target variable\n",
    "    test_size=0.3,\n",
    "    random_state=1\n",
    ")\n",
    "\n",
    "x_train.shape, x_test.shape"
   ]
  },
  {
   "cell_type": "code",
   "execution_count": 9,
   "metadata": {},
   "outputs": [
    {
     "data": {
      "text/html": [
       "<div>\n",
       "<style scoped>\n",
       "    .dataframe tbody tr th:only-of-type {\n",
       "        vertical-align: middle;\n",
       "    }\n",
       "\n",
       "    .dataframe tbody tr th {\n",
       "        vertical-align: top;\n",
       "    }\n",
       "\n",
       "    .dataframe thead th {\n",
       "        text-align: right;\n",
       "    }\n",
       "</style>\n",
       "<table border=\"1\" class=\"dataframe\">\n",
       "  <thead>\n",
       "    <tr style=\"text-align: right;\">\n",
       "      <th></th>\n",
       "      <th>seniority</th>\n",
       "      <th>home</th>\n",
       "      <th>time</th>\n",
       "      <th>age</th>\n",
       "      <th>marital</th>\n",
       "      <th>records</th>\n",
       "      <th>job</th>\n",
       "      <th>expenses</th>\n",
       "      <th>income</th>\n",
       "      <th>assets</th>\n",
       "      <th>debt</th>\n",
       "      <th>amount</th>\n",
       "      <th>price</th>\n",
       "    </tr>\n",
       "  </thead>\n",
       "  <tbody>\n",
       "    <tr>\n",
       "      <th>4301</th>\n",
       "      <td>15</td>\n",
       "      <td>other</td>\n",
       "      <td>60</td>\n",
       "      <td>50</td>\n",
       "      <td>married</td>\n",
       "      <td>no_rec</td>\n",
       "      <td>fixed</td>\n",
       "      <td>35</td>\n",
       "      <td>92.0</td>\n",
       "      <td>6000.0</td>\n",
       "      <td>0.0</td>\n",
       "      <td>900</td>\n",
       "      <td>982</td>\n",
       "    </tr>\n",
       "    <tr>\n",
       "      <th>3431</th>\n",
       "      <td>1</td>\n",
       "      <td>parents</td>\n",
       "      <td>24</td>\n",
       "      <td>21</td>\n",
       "      <td>single</td>\n",
       "      <td>no_rec</td>\n",
       "      <td>partime</td>\n",
       "      <td>45</td>\n",
       "      <td>114.0</td>\n",
       "      <td>2500.0</td>\n",
       "      <td>500.0</td>\n",
       "      <td>500</td>\n",
       "      <td>1154</td>\n",
       "    </tr>\n",
       "    <tr>\n",
       "      <th>396</th>\n",
       "      <td>10</td>\n",
       "      <td>owner</td>\n",
       "      <td>48</td>\n",
       "      <td>37</td>\n",
       "      <td>divorced</td>\n",
       "      <td>no_rec</td>\n",
       "      <td>fixed</td>\n",
       "      <td>35</td>\n",
       "      <td>87.0</td>\n",
       "      <td>3500.0</td>\n",
       "      <td>450.0</td>\n",
       "      <td>500</td>\n",
       "      <td>1155</td>\n",
       "    </tr>\n",
       "    <tr>\n",
       "      <th>1277</th>\n",
       "      <td>0</td>\n",
       "      <td>parents</td>\n",
       "      <td>60</td>\n",
       "      <td>20</td>\n",
       "      <td>single</td>\n",
       "      <td>no_rec</td>\n",
       "      <td>fixed</td>\n",
       "      <td>35</td>\n",
       "      <td>79.0</td>\n",
       "      <td>0.0</td>\n",
       "      <td>0.0</td>\n",
       "      <td>1570</td>\n",
       "      <td>1575</td>\n",
       "    </tr>\n",
       "    <tr>\n",
       "      <th>1903</th>\n",
       "      <td>17</td>\n",
       "      <td>owner</td>\n",
       "      <td>60</td>\n",
       "      <td>51</td>\n",
       "      <td>single</td>\n",
       "      <td>no_rec</td>\n",
       "      <td>fixed</td>\n",
       "      <td>35</td>\n",
       "      <td>155.0</td>\n",
       "      <td>3000.0</td>\n",
       "      <td>0.0</td>\n",
       "      <td>1250</td>\n",
       "      <td>1668</td>\n",
       "    </tr>\n",
       "  </tbody>\n",
       "</table>\n",
       "</div>"
      ],
      "text/plain": [
       "      seniority     home  time  age   marital records      job  expenses  \\\n",
       "4301         15    other    60   50   married  no_rec    fixed        35   \n",
       "3431          1  parents    24   21    single  no_rec  partime        45   \n",
       "396          10    owner    48   37  divorced  no_rec    fixed        35   \n",
       "1277          0  parents    60   20    single  no_rec    fixed        35   \n",
       "1903         17    owner    60   51    single  no_rec    fixed        35   \n",
       "\n",
       "      income  assets   debt  amount  price  \n",
       "4301    92.0  6000.0    0.0     900    982  \n",
       "3431   114.0  2500.0  500.0     500   1154  \n",
       "396     87.0  3500.0  450.0     500   1155  \n",
       "1277    79.0     0.0    0.0    1570   1575  \n",
       "1903   155.0  3000.0    0.0    1250   1668  "
      ]
     },
     "execution_count": 9,
     "metadata": {},
     "output_type": "execute_result"
    }
   ],
   "source": [
    "x_train.head()"
   ]
  },
  {
   "cell_type": "code",
   "execution_count": 10,
   "metadata": {},
   "outputs": [],
   "source": [
    "NUMERICAL_VAR_WITH_NA = ['income', 'assets', 'debt'] \n",
    "NUMERICAL_LOG_VARS = ['price', 'amount', 'income', 'assets', 'debt']\n",
    "NUMERICAL_YEO_VARS = ['seniority']\n",
    "CATEGORICAL_VARS = ['home', 'marital', 'records', 'job']"
   ]
  },
  {
   "cell_type": "markdown",
   "metadata": {},
   "source": [
    "# Pipeline design"
   ]
  },
  {
   "cell_type": "code",
   "execution_count": 11,
   "metadata": {},
   "outputs": [],
   "source": [
    "credit_risk_pipeline = Pipeline([\n",
    "\n",
    "    # ======== IMPUTATION ========== #\n",
    "\n",
    "    ('missing_indicator', AddMissingIndicator(variables=NUMERICAL_VAR_WITH_NA)),\n",
    "\n",
    "    ('median_imputter', MeanMedianImputer(imputation_method='median', variables=NUMERICAL_VAR_WITH_NA)),\n",
    "\n",
    "\n",
    "    # ==== VARIABLE TRANSFORMATION ========= #\n",
    "\n",
    "    ('log_transformer', LogCpTransformer(variables=NUMERICAL_LOG_VARS, C=1)),\n",
    "\n",
    "    ('yeojohnson', YeoJohnsonTransformer(variables=NUMERICAL_YEO_VARS)),\n",
    "\n",
    "    # ===== CATEGORICAL ENCODER ========= #\n",
    "    ('category_encoding', OrdinalEncoder(encoding_method = 'ordered', variables = CATEGORICAL_VARS)),\n",
    "\n",
    "    # ========== STANDARDIZING OUR DATA ======= #\n",
    "    ('data_scaling', StandardScaler()),\n",
    "\n",
    "    # ======= final estimator ==========#\n",
    "    ('rfc', RFC(random_state=1, n_estimators= 100, max_depth=5))\n",
    "\n",
    "    ])"
   ]
  },
  {
   "cell_type": "code",
   "execution_count": 12,
   "metadata": {},
   "outputs": [
    {
     "data": {
      "text/plain": [
       "Pipeline(steps=[('missing_indicator',\n",
       "                 AddMissingIndicator(variables=['income', 'assets', 'debt'])),\n",
       "                ('median_imputter',\n",
       "                 MeanMedianImputer(variables=['income', 'assets', 'debt'])),\n",
       "                ('log_transformer',\n",
       "                 LogCpTransformer(C=1,\n",
       "                                  variables=['price', 'amount', 'income',\n",
       "                                             'assets', 'debt'])),\n",
       "                ('yeojohnson', YeoJohnsonTransformer(variables=['seniority'])),\n",
       "                ('category_encoding',\n",
       "                 OrdinalEncoder(variables=['home', 'marital', 'records',\n",
       "                                           'job'])),\n",
       "                ('data_scaling', StandardScaler()),\n",
       "                ('rfc', RandomForestClassifier(max_depth=5, random_state=1))])"
      ]
     },
     "execution_count": 12,
     "metadata": {},
     "output_type": "execute_result"
    }
   ],
   "source": [
    "# Train the pipeline\n",
    "credit_risk_pipeline.fit(x_train, y_train)"
   ]
  },
  {
   "cell_type": "code",
   "execution_count": 13,
   "metadata": {},
   "outputs": [
    {
     "name": "stdout",
     "output_type": "stream",
     "text": [
      "train roc-auc: 0.8840921268199196\n",
      "train accuracy: 0.820660891883221\n",
      "              precision    recall  f1-score   support\n",
      "\n",
      "           0       0.83      0.44      0.58       860\n",
      "           1       0.82      0.96      0.89      2257\n",
      "\n",
      "    accuracy                           0.82      3117\n",
      "   macro avg       0.82      0.70      0.73      3117\n",
      "weighted avg       0.82      0.82      0.80      3117\n",
      "\n"
     ]
    }
   ],
   "source": [
    "\n",
    "#Train set\n",
    "class_ = credit_risk_pipeline.predict(x_train)\n",
    "pred = credit_risk_pipeline.predict_proba(x_train)[:,1]\n",
    "\n",
    "\n",
    "# determine mse and rmse\n",
    "print('train roc-auc: {}'.format(roc_auc_score(y_train, pred)))\n",
    "print('train accuracy: {}'.format(accuracy_score(y_train, class_)))\n",
    "\n",
    "# Classification report\n",
    "print(classification_report(y_train, class_))\n",
    "\n"
   ]
  },
  {
   "cell_type": "code",
   "execution_count": 14,
   "metadata": {},
   "outputs": [
    {
     "data": {
      "text/plain": [
       "array([1, 1, 1, ..., 1, 1, 1])"
      ]
     },
     "execution_count": 14,
     "metadata": {},
     "output_type": "execute_result"
    }
   ],
   "source": [
    "class_"
   ]
  }
 ],
 "metadata": {
  "kernelspec": {
   "display_name": "base",
   "language": "python",
   "name": "python3"
  },
  "language_info": {
   "codemirror_mode": {
    "name": "ipython",
    "version": 3
   },
   "file_extension": ".py",
   "mimetype": "text/x-python",
   "name": "python",
   "nbconvert_exporter": "python",
   "pygments_lexer": "ipython3",
   "version": "3.9.12"
  },
  "orig_nbformat": 4
 },
 "nbformat": 4,
 "nbformat_minor": 2
}
